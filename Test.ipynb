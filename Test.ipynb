{
  "nbformat": 4,
  "nbformat_minor": 0,
  "metadata": {
    "colab": {
      "provenance": [],
      "authorship_tag": "ABX9TyPAojJbLvxvXI9sufQxcw3d",
      "include_colab_link": true
    },
    "kernelspec": {
      "name": "python3",
      "display_name": "Python 3"
    },
    "language_info": {
      "name": "python"
    }
  },
  "cells": [
    {
      "cell_type": "markdown",
      "metadata": {
        "id": "view-in-github",
        "colab_type": "text"
      },
      "source": [
        "<a href=\"https://colab.research.google.com/github/LangeBjoern/Python_Excel_Automation/blob/main/Test.ipynb\" target=\"_parent\"><img src=\"https://colab.research.google.com/assets/colab-badge.svg\" alt=\"Open In Colab\"/></a>"
      ]
    },
    {
      "cell_type": "code",
      "execution_count": 7,
      "metadata": {
        "id": "AEdctjWtqMDJ"
      },
      "outputs": [],
      "source": [
        "# Write 2+ 3 and then Shift+ Enter "
      ]
    },
    {
      "cell_type": "code",
      "source": [
        "# Write 2*3 and then Ctrl + Enter "
      ],
      "metadata": {
        "id": "9KvKC503qsnD"
      },
      "execution_count": 8,
      "outputs": []
    },
    {
      "cell_type": "code",
      "source": [
        "#\tWrite on 2+10 and just click on “run” button  "
      ],
      "metadata": {
        "id": "U5XjrwgCrNy7"
      },
      "execution_count": 9,
      "outputs": []
    }
  ]
}